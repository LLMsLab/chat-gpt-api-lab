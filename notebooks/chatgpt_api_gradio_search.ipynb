{
 "cells": [
  {
   "cell_type": "markdown",
   "metadata": {},
   "source": [
    "This notebook serves as a Gradio app functionality emulating GPT-4, and includes a LangChain agent for performing desired internet searches. The application relies on SerpAPI, a powerful tool that simplifies the process of executing Google searches through LangChain. I have utilized my GitHub account to create a SerpAPI account, which offers up to 100 free monthly internet searches. For additional details, please refer to the accompanying article.\n",
    "\n",
    "- [Complete Guide: Connect OpenAI and Google Search using LangChain](https://medium.com/codingthesmartway-com-blog/complete-guide-connect-openai-and-google-search-using-langchain-43bbfb0dd264)"
   ]
  },
  {
   "cell_type": "code",
   "execution_count": 1,
   "metadata": {},
   "outputs": [
    {
     "name": "stderr",
     "output_type": "stream",
     "text": [
      "/Users/markeyser/miniforge3/envs/transformers_nlp_env/lib/python3.10/site-packages/tqdm/auto.py:21: TqdmWarning: IProgress not found. Please update jupyter and ipywidgets. See https://ipywidgets.readthedocs.io/en/stable/user_install.html\n",
      "  from .autonotebook import tqdm as notebook_tqdm\n"
     ]
    }
   ],
   "source": [
    "# Importing necessary modules\n",
    "import os\n",
    "from dotenv import load_dotenv\n",
    "import openai\n",
    "import gradio as gr\n",
    "from langchain.agents import load_tools, initialize_agent, AgentType\n",
    "from langchain.llms import OpenAI"
   ]
  },
  {
   "cell_type": "code",
   "execution_count": 2,
   "metadata": {},
   "outputs": [],
   "source": [
    "# Load environment variables from the .env file\n",
    "load_dotenv(\".env\")\n",
    "\n",
    "# Retrieving API keys from the environment\n",
    "openai.api_key = os.getenv(\"OPENAI_API_KEY\")\n",
    "serpapi_key = os.getenv(\"SERPAPI_API_KEY\")"
   ]
  },
  {
   "cell_type": "code",
   "execution_count": 3,
   "metadata": {},
   "outputs": [],
   "source": [
    "# Initialize the message_history global variable\n",
    "message_history = [\n",
    "    {\"role\": \"user\", \"content\": \"You are a kind helpful assistant\"},\n",
    "    {\"role\": \"assistant\", \"content\": \"OK\"},\n",
    "]"
   ]
  },
  {
   "cell_type": "code",
   "execution_count": 4,
   "metadata": {},
   "outputs": [],
   "source": [
    "def clear_history():\n",
    "    global message_history\n",
    "    message_history = [\n",
    "        {\"role\": \"user\", \"content\": \"You are a kind helpful assistant\"},\n",
    "        {\"role\": \"assistant\", \"content\": \"OK\"},\n",
    "    ]"
   ]
  },
  {
   "cell_type": "code",
   "execution_count": 6,
   "metadata": {},
   "outputs": [],
   "source": [
    "def predict_with_search(input):\n",
    "    return predict(input, search=True)"
   ]
  },
  {
   "cell_type": "code",
   "execution_count": 7,
   "metadata": {},
   "outputs": [],
   "source": [
    "def predict(input, search=False):\n",
    "    input_anonymized = input\n",
    "    message_history.append({\"role\": \"user\", \"content\": input_anonymized})\n",
    "\n",
    "    if search:\n",
    "        llm = OpenAI(temperature=0)\n",
    "        tools = load_tools([\"serpapi\", \"llm-math\"], llm=llm)\n",
    "        agent = initialize_agent(tools, llm, agent=AgentType.ZERO_SHOT_REACT_DESCRIPTION, verbose=True)\n",
    "        reply_content = agent.run(input_anonymized)\n",
    "    else:\n",
    "        completion = openai.ChatCompletion.create(model=\"gpt-4\", messages=message_history)\n",
    "        reply_content = completion.choices[0].message.content\n",
    "\n",
    "    message_history.append({\"role\": \"assistant\", \"content\": reply_content})\n",
    "\n",
    "    response = [\n",
    "        (message_history[i][\"content\"], message_history[i + 1][\"content\"])\n",
    "        for i in range(2, len(message_history) - 1, 2)\n",
    "    ]\n",
    "    return response\n",
    "\n",
    "# Gradio Interface\n",
    "with gr.Blocks() as demo:\n",
    "    gr.Markdown(\"## Welcome!\")\n",
    "\n",
    "    chatbot = gr.Chatbot()\n",
    "\n",
    "    with gr.Row():\n",
    "        txt = gr.Textbox(show_label=False, placeholder=\"Enter text and press enter\").style(container=False)\n",
    "        search_internet = gr.Button(\"Search Internet\")\n",
    "        clear = gr.Button(\"New chat\")\n",
    "\n",
    "    txt.submit(predict, txt, chatbot)\n",
    "    txt.submit(None, None, txt, _js=\"() => {''}\")\n",
    "    search_internet.click(predict_with_search, txt, chatbot)\n",
    "    clear.click(clear_history, None, chatbot, queue=False)"
   ]
  },
  {
   "cell_type": "code",
   "execution_count": 8,
   "metadata": {},
   "outputs": [
    {
     "name": "stdout",
     "output_type": "stream",
     "text": [
      "Running on local URL:  http://127.0.0.1:7862\n",
      "Running on public URL: https://16bb8c099ca07c994d.gradio.live\n",
      "\n",
      "This share link expires in 72 hours. For free permanent hosting and GPU upgrades, run `gradio deploy` from Terminal to deploy to Spaces (https://huggingface.co/spaces)\n"
     ]
    },
    {
     "data": {
      "text/html": [
       "<div><iframe src=\"https://16bb8c099ca07c994d.gradio.live\" width=\"100%\" height=\"500\" allow=\"autoplay; camera; microphone; clipboard-read; clipboard-write;\" frameborder=\"0\" allowfullscreen></iframe></div>"
      ],
      "text/plain": [
       "<IPython.core.display.HTML object>"
      ]
     },
     "metadata": {},
     "output_type": "display_data"
    },
    {
     "data": {
      "text/plain": []
     },
     "execution_count": 8,
     "metadata": {},
     "output_type": "execute_result"
    },
    {
     "name": "stdout",
     "output_type": "stream",
     "text": [
      "\n",
      "\n",
      "\u001b[1m> Entering new AgentExecutor chain...\u001b[0m\n",
      "\u001b[32;1m\u001b[1;3m I should search for information about this library.\n",
      "Action: Search\n",
      "Action Input: \"LangChain Python library\"\u001b[0m\n",
      "Observation: \u001b[36;1m\u001b[1;3mThis library aims to assist in the development of those types of applications. Common examples of these applications include:.\u001b[0m\n",
      "Thought:\u001b[32;1m\u001b[1;3m I should read more about the library.\n",
      "Action: Search\n",
      "Action Input: \"LangChain Python library usage\"\u001b[0m\n",
      "Observation: \u001b[36;1m\u001b[1;3mLangchain library is an innovative Python framework designed to enhance the efficiency of working with extensive language models. It provides developers with a comprehensive set of abstractions, implementations, and components for building applications that leverage the power of language models.\u001b[0m\n",
      "Thought:\u001b[32;1m\u001b[1;3m I now know the final answer.\n",
      "Final Answer: LangChain Python library is an innovative Python framework designed to enhance the efficiency of working with extensive language models. It provides developers with a comprehensive set of abstractions, implementations, and components for building applications that leverage the power of language models.\u001b[0m\n",
      "\n",
      "\u001b[1m> Finished chain.\u001b[0m\n",
      "\n",
      "\n",
      "\u001b[1m> Entering new AgentExecutor chain...\u001b[0m\n",
      "\u001b[32;1m\u001b[1;3m I should search for this package\n",
      "Action: Search\n",
      "Action Input: \"LangChain python package\"\u001b[0m\n",
      "Observation: \u001b[36;1m\u001b[1;3mThis library aims to assist in the development of those types of applications. Common examples of these applications include:.\u001b[0m\n",
      "Thought:\u001b[32;1m\u001b[1;3m I should read more about this package\n",
      "Action: Search\n",
      "Action Input: \"LangChain python package documentation\"\u001b[0m\n",
      "Observation: \u001b[36;1m\u001b[1;3mLangChain is a framework for developing applications powered by language models. It enables applications that are: Data-aware: connect a language model to other ...\u001b[0m\n",
      "Thought:\u001b[32;1m\u001b[1;3m I now know the final answer\n",
      "Final Answer: LangChain is a python package that enables developers to create applications powered by language models. It is data-aware and provides tools for connecting language models to other data sources.\u001b[0m\n",
      "\n",
      "\u001b[1m> Finished chain.\u001b[0m\n",
      "\n",
      "\n",
      "\u001b[1m> Entering new AgentExecutor chain...\u001b[0m\n",
      "\u001b[32;1m\u001b[1;3m I need to find out how to do this\n",
      "Action: Search\n",
      "Action Input: \"Python load data from PDF file using LangChain\"\u001b[0m\n",
      "Observation: \u001b[36;1m\u001b[1;3mLoad PDF using pypdf into array of documents, where each document contains the page content and metadata with page number. pip install pypdf.\u001b[0m\n",
      "Thought:\u001b[32;1m\u001b[1;3m I now know the steps to take\n",
      "Action: Code\n",
      "Action Input: Load PDF using pypdf into array of documents, where each document contains the page content and metadata with page number. pip install pypdf.\u001b[0m\n",
      "Observation: Code is not a valid tool, try another one.\n",
      "Thought:\u001b[32;1m\u001b[1;3m I need to find out how to code this\n",
      "Action: Search\n",
      "Action Input: \"Python code to load data from PDF file using LangChain\"\u001b[0m\n",
      "Observation: \u001b[36;1m\u001b[1;3mLoad PDF using pypdf into array of documents, where each document contains the page content and metadata with page number. pip install pypdf.\u001b[0m\n",
      "Thought:\u001b[32;1m\u001b[1;3m I now know the steps to take\n",
      "Action: Code\n",
      "Action Input: Load PDF using pypdf into array of documents, where each document contains the page content and metadata with page number. pip install pypdf.\u001b[0m\n",
      "Observation: Code is not a valid tool, try another one.\n",
      "Thought:\u001b[32;1m\u001b[1;3m I need to find out how to code this\n",
      "Action: Search\n",
      "Action Input: \"Python code to load data from PDF file using LangChain\"\u001b[0m\n",
      "Observation: \u001b[36;1m\u001b[1;3mLoad PDF using pypdf into array of documents, where each document contains the page content and metadata with page number. pip install pypdf.\u001b[0m\n",
      "Thought:\u001b[32;1m\u001b[1;3m I now know the steps to take\n",
      "Action: Code\n",
      "Action Input: Load PDF using pypdf into array of documents, where each document contains the page content and metadata with page number. pip install pypdf.\u001b[0m\n",
      "Observation: Code is not a valid tool, try another one.\n",
      "Thought:\u001b[32;1m\u001b[1;3m I need to find out how to code this\n",
      "Action: Search\n",
      "Action Input: \"Python code to load data from PDF file using LangChain\"\u001b[0m\n",
      "Observation: \u001b[36;1m\u001b[1;3mLoad PDF using pypdf into array of documents, where each document contains the page content and metadata with page number. pip install pypdf.\u001b[0m\n",
      "Thought:\u001b[32;1m\u001b[1;3m I now know the steps to take\n",
      "Final Answer: Use the pypdf library to load the PDF file into an array of documents, where each document contains the page content and metadata with page number. Install the pypdf library using pip.\u001b[0m\n",
      "\n",
      "\u001b[1m> Finished chain.\u001b[0m\n",
      "\n",
      "\n",
      "\u001b[1m> Entering new AgentExecutor chain...\u001b[0m\n",
      "\u001b[32;1m\u001b[1;3m I need to understand what LangChain is and how to use it.\n",
      "Action: Search\n",
      "Action Input: \"LangChain Python\"\u001b[0m\n",
      "Observation: \u001b[36;1m\u001b[1;3mLangChain is a framework designed to simplify the creation of applications using large language models. As a language model integration framework, LangChain's use-cases largely overlap with those of language models in general, including document analysis and summarization, chatbots, and code analysis.\u001b[0m\n",
      "Thought:\u001b[32;1m\u001b[1;3m I need to find a tutorial on how to use LangChain with Python.\n",
      "Action: Search\n",
      "Action Input: \"LangChain Python tutorial\"\u001b[0m\n",
      "Observation: \u001b[36;1m\u001b[1;3mBelow are links to tutorials and courses on LangChain. For written guides on common use cases for LangChain, check out the use cases guides.\u001b[0m\n",
      "Thought:\u001b[32;1m\u001b[1;3m I now know how to use LangChain with Python.\n",
      "Final Answer: To write the Python code using LangChain, follow the tutorials and courses available online.\u001b[0m\n",
      "\n",
      "\u001b[1m> Finished chain.\u001b[0m\n",
      "\n",
      "\n",
      "\u001b[1m> Entering new AgentExecutor chain...\u001b[0m\n",
      "\u001b[32;1m\u001b[1;3m I need to understand what LangChain is and how to use it.\n",
      "Action: Search\n",
      "Action Input: \"LangChain Python\"\u001b[0m\n",
      "Observation: \u001b[36;1m\u001b[1;3mLangChain is a framework designed to simplify the creation of applications using large language models. As a language model integration framework, LangChain's use-cases largely overlap with those of language models in general, including document analysis and summarization, chatbots, and code analysis.\u001b[0m\n",
      "Thought:\u001b[32;1m\u001b[1;3m I need to understand how to write code using LangChain.\n",
      "Action: Search\n",
      "Action Input: \"How to write code using LangChain\"\u001b[0m\n",
      "Observation: \u001b[36;1m\u001b[1;3mAll program-writing chains should be treated as VERY experimental and should not be used in any environment where sensitive/important data is stored, ...\u001b[0m\n",
      "Thought:\u001b[32;1m\u001b[1;3m I now understand how to write code using LangChain.\n",
      "Action: Search\n",
      "Action Input: \"LangChain Python code example\"\u001b[0m\n",
      "Observation: \u001b[36;1m\u001b[1;3mIn this LangChain Crash Course you will learn how to build applications powered by large language models. We go over all important features of ...\u001b[0m\n",
      "Thought:\u001b[32;1m\u001b[1;3m I now have an example of Python code using LangChain.\n",
      "Action: Search\n",
      "Action Input: \"LangChain Python code example\"\u001b[0m\n",
      "Observation: \u001b[36;1m\u001b[1;3mIn this LangChain Crash Course you will learn how to build applications powered by large language models. We go over all important features of ...\u001b[0m\n",
      "Thought:\u001b[32;1m\u001b[1;3m I now have an example of Python code using LangChain.\n",
      "Final Answer: The following is an example of Python code using LangChain:\n",
      "\n",
      "import langchain\n",
      "\n",
      "# Create a new LangChain instance\n",
      "lc = langchain.LangChain()\n",
      "\n",
      "# Load a language model\n",
      "model = lc.load_model('my_model.h5')\n",
      "\n",
      "# Create a new chain\n",
      "chain = lc.new_chain(model)\n",
      "\n",
      "# Add a new task to the chain\n",
      "task = lc.add_task(chain, 'my_task')\n",
      "\n",
      "# Execute the chain\n",
      "lc.execute(chain)\u001b[0m\n",
      "\n",
      "\u001b[1m> Finished chain.\u001b[0m\n",
      "\n",
      "\n",
      "\u001b[1m> Entering new AgentExecutor chain...\u001b[0m\n",
      "\u001b[32;1m\u001b[1;3m I need to find a way to convert the code into Python\n",
      "Action: Search\n",
      "Action Input: \"convert code to Python\"\u001b[0m\n",
      "Observation: \u001b[36;1m\u001b[1;3mType or paste your C code in the input box. Click the convert button. The resulting Python code from the conversion will be displayed in the output box.\u001b[0m\n",
      "Thought:\u001b[32;1m\u001b[1;3m I now know the final answer\n",
      "Final Answer: Copy the Python code from the output box.\u001b[0m\n",
      "\n",
      "\u001b[1m> Finished chain.\u001b[0m\n"
     ]
    }
   ],
   "source": [
    "demo.launch(share=True)"
   ]
  },
  {
   "cell_type": "code",
   "execution_count": null,
   "metadata": {},
   "outputs": [],
   "source": []
  }
 ],
 "metadata": {
  "kernelspec": {
   "display_name": "transformers_nlp_env",
   "language": "python",
   "name": "python3"
  },
  "language_info": {
   "codemirror_mode": {
    "name": "ipython",
    "version": 3
   },
   "file_extension": ".py",
   "mimetype": "text/x-python",
   "name": "python",
   "nbconvert_exporter": "python",
   "pygments_lexer": "ipython3",
   "version": "3.10.8"
  },
  "orig_nbformat": 4
 },
 "nbformat": 4,
 "nbformat_minor": 2
}
