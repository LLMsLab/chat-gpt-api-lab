{
  "nbformat": 4,
  "nbformat_minor": 0,
  "metadata": {
    "colab": {
      "provenance": [],
      "authorship_tag": "ABX9TyOFLR0XpOq14EScXYT/t1Sf",
      "include_colab_link": true
    },
    "kernelspec": {
      "name": "python3",
      "display_name": "Python 3"
    },
    "language_info": {
      "name": "python"
    }
  },
  "cells": [
    {
      "cell_type": "markdown",
      "metadata": {
        "id": "view-in-github",
        "colab_type": "text"
      },
      "source": [
        "<a href=\"https://colab.research.google.com/github/LLMsLab/chat-gpt-api-lab/blob/exploration%2Fchatgpt-api-understanding/tutorial_02_presidio.ipynb\" target=\"_parent\"><img src=\"https://colab.research.google.com/assets/colab-badge.svg\" alt=\"Open In Colab\"/></a>"
      ]
    },
    {
      "cell_type": "markdown",
      "source": [
        "# A Basic Tutorial on Presidio\n",
        "\n",
        "Presidio is an open-source data protection and data privacy library developed by Microsoft. It is designed to recognize and anonymize Personally Identifiable Information (PII) in text data. Presidio uses Named Entity Recognition (NER) techniques to detect various types of sensitive information in a given text. It can be used to ensure privacy and compliance with data protection regulations."
      ],
      "metadata": {
        "id": "prupRSXG1Ntk"
      }
    },
    {
      "cell_type": "markdown",
      "source": [
        "## Setup\n",
        "\n",
        "To wrap the lines in the notebook's output use the following function.\n",
        "\n",
        "Reference: [Line Wrapping in Collaboratory Google results](https://stackoverflow.com/questions/58890109/line-wrapping-in-collaboratory-google-results)"
      ],
      "metadata": {
        "id": "bc6rBJPH-idC"
      }
    },
    {
      "cell_type": "code",
      "execution_count": null,
      "metadata": {
        "colab": {
          "base_uri": "https://localhost:8080/",
          "height": 17
        },
        "id": "2pP4qS5D-XC_",
        "outputId": "2673bab4-ea91-41bc-8ead-e8d90e53d62b"
      },
      "outputs": [
        {
          "output_type": "display_data",
          "data": {
            "text/plain": [
              "<IPython.core.display.HTML object>"
            ],
            "text/html": [
              "\n",
              "  <style>\n",
              "    pre {\n",
              "        white-space: pre-wrap;\n",
              "    }\n",
              "  </style>\n",
              "  "
            ]
          },
          "metadata": {}
        },
        {
          "output_type": "display_data",
          "data": {
            "text/plain": [
              "<IPython.core.display.HTML object>"
            ],
            "text/html": [
              "\n",
              "    <style>\n",
              "      pre {\n",
              "        white-space: pre-wrap;\n",
              "      }\n",
              "    </style>\n",
              "    "
            ]
          },
          "metadata": {}
        }
      ],
      "source": [
        "from IPython.display import HTML, display\n",
        "\n",
        "def set_css():\n",
        "    \"\"\"\n",
        "    Wraps the lines in the notebook's output.\n",
        "    \"\"\"\n",
        "    display(HTML('''\n",
        "    <style>\n",
        "      pre {\n",
        "        white-space: pre-wrap;\n",
        "      }\n",
        "    </style>\n",
        "    '''))\n",
        "\n",
        "get_ipython().events.register('pre_run_cell', set_css)"
      ]
    },
    {
      "cell_type": "code",
      "source": [
        "# Requirements\n",
        "!pip install -qU python-dotenv openai gradio presidio-analyzer presidio-anonymizer\n",
        "!python -m spacy download en_core_web_lg -qU"
      ],
      "metadata": {
        "colab": {
          "base_uri": "https://localhost:8080/",
          "height": 86
        },
        "id": "DPqQlhZC-fZt",
        "outputId": "8aa833e4-d9ec-49a9-920f-2abe85a22216"
      },
      "execution_count": null,
      "outputs": [
        {
          "output_type": "display_data",
          "data": {
            "text/plain": [
              "<IPython.core.display.HTML object>"
            ],
            "text/html": [
              "\n",
              "  <style>\n",
              "    pre {\n",
              "        white-space: pre-wrap;\n",
              "    }\n",
              "  </style>\n",
              "  "
            ]
          },
          "metadata": {}
        },
        {
          "output_type": "display_data",
          "data": {
            "text/plain": [
              "<IPython.core.display.HTML object>"
            ],
            "text/html": [
              "\n",
              "    <style>\n",
              "      pre {\n",
              "        white-space: pre-wrap;\n",
              "      }\n",
              "    </style>\n",
              "    "
            ]
          },
          "metadata": {}
        },
        {
          "output_type": "display_data",
          "data": {
            "text/plain": [
              "<IPython.core.display.HTML object>"
            ],
            "text/html": [
              "\n",
              "    <style>\n",
              "      pre {\n",
              "        white-space: pre-wrap;\n",
              "      }\n",
              "    </style>\n",
              "    "
            ]
          },
          "metadata": {}
        },
        {
          "output_type": "stream",
          "name": "stdout",
          "text": [
            "2023-05-27 15:19:03.306705: W tensorflow/compiler/tf2tensorrt/utils/py_utils.cc:38] TF-TRT Warning: Could not find TensorRT\n",
            "\u001b[2K     \u001b[90m━━━━━━━━━━━━━━━━━━━━━━━━━━━━━━━━━━━━━━━━\u001b[0m \u001b[32m587.7/587.7 MB\u001b[0m \u001b[31m?\u001b[0m eta \u001b[36m0:00:00\u001b[0m\n",
            "\u001b[?25h\u001b[38;5;2m✔ Download and installation successful\u001b[0m\n",
            "You can now load the package via spacy.load('en_core_web_lg')\n"
          ]
        }
      ]
    },
    {
      "cell_type": "code",
      "source": [
        "# Imports\n",
        "from presidio_analyzer import AnalyzerEngine\n",
        "from presidio_anonymizer import AnonymizerEngine"
      ],
      "metadata": {
        "id": "eEaviP5htoI-"
      },
      "execution_count": null,
      "outputs": []
    },
    {
      "cell_type": "markdown",
      "source": [
        "## Understanding the Python Code\n",
        "\n",
        "Our Python script uses the Presidio library to analyze and anonymize a given text. Here's a breakdown of what the code does:\n",
        "\n",
        "1. **Imports the necessary modules**: The `presidio_analyzer` and `presidio_anonymizer` are imported from the Presidio library.\n",
        "\n",
        "2. **Defines the `analyze_and_anonymize` function**: This function takes a `text` argument and returns the anonymized version of the text.\n",
        "\n",
        "3. **Sets up the Analyzer engine**: The `AnalyzerEngine` is initialized. This engine is capable of recognizing various types of PII in text data.\n",
        "\n",
        "4. **Specifies the entities to analyze**: A list of entities that should be detected in the text is defined. These entities include various types of personal and sensitive information, such as credit card numbers, email addresses, and social security numbers.\n",
        "\n",
        "5. **Analyzes the text**: The `analyze` method of the `AnalyzerEngine` is called with the text and the entities as arguments. This method returns a list of recognized entities in the text.\n",
        "\n",
        "6. **Sets up the Anonymizer engine**: The `AnonymizerEngine` is initialized. This engine is capable of anonymizing recognized entities in the text.\n",
        "\n",
        "7. **Anonymizes the text**: The `anonymize` method of the `AnonymizerEngine` is called with the text and the recognized entities as arguments. This method returns the anonymized version of the text.\n",
        "\n",
        "8. **Returns the anonymized text**: The anonymized text is returned by the `analyze_and_anonymize` function.\n",
        "\n",
        "The script is then tested on a sample text that contains various types of PII.\n"
      ],
      "metadata": {
        "id": "G1tbDheJ1jVf"
      }
    },
    {
      "cell_type": "code",
      "source": [
        "def analyze_and_anonymize(text: str):\n",
        "    \"\"\"\n",
        "    Analyze and anonymize PII data from a given text string.\n",
        "\n",
        "    Parameters\n",
        "    ----------\n",
        "    text : str\n",
        "        The text to be analyzed and anonymized.\n",
        "\n",
        "    Returns\n",
        "    -------\n",
        "    str\n",
        "        The anonymized text.\n",
        "\n",
        "    Example\n",
        "    -------\n",
        "    >>> text = \"Mr. Smith's phone number is 212-555-5555, his SSN is \\\n",
        "    >>> 432-56-5654, and his credit card number is 344078656339539\"\n",
        "    >>> print(analyze_and_anonymize(text))\n",
        "    \"\"\"\n",
        "    # Set up the engine, loads the NLP module (spaCy model by default)\n",
        "    # and other PII recognizers\n",
        "    analyzer = AnalyzerEngine()\n",
        "\n",
        "    # Define the entities to analyze\n",
        "    entities = [\n",
        "        \"CREDIT_CARD\",\n",
        "        \"CRYPTO\",\n",
        "        \"DATE_TIME\",\n",
        "        \"EMAIL_ADDRESS\",\n",
        "        \"IBAN_CODE\",\n",
        "        \"IP_ADDRESS\",\n",
        "        \"NRP\",\n",
        "        \"LOCATION\",\n",
        "        \"PERSON\",\n",
        "        \"PHONE_NUMBER\",\n",
        "        \"MEDICAL_LICENSE\",\n",
        "        \"URL\",\n",
        "        \"US_BANK_NUMBER\",\n",
        "        \"US_DRIVER_LICENSE\",\n",
        "        \"US_ITIN\",\n",
        "        \"US_PASSPORT\",\n",
        "        \"US_SSN\",\n",
        "    ]\n",
        "\n",
        "    # Call analyzer to get results\n",
        "    results = analyzer.analyze(text=text, entities=entities, language=\"en\")\n",
        "\n",
        "    # Analyzer results are passed to the AnonymizerEngine for anonymization\n",
        "    anonymizer = AnonymizerEngine()\n",
        "\n",
        "    # Anonymize the text\n",
        "    anonymized_text = anonymizer.anonymize(text=text, analyzer_results=results)\n",
        "\n",
        "    return anonymized_text.text"
      ],
      "metadata": {
        "colab": {
          "base_uri": "https://localhost:8080/",
          "height": 17
        },
        "id": "-g-MIzDfsCrg",
        "outputId": "45af5fd7-eaeb-4887-f02f-1992afa3d8e4"
      },
      "execution_count": null,
      "outputs": [
        {
          "output_type": "display_data",
          "data": {
            "text/plain": [
              "<IPython.core.display.HTML object>"
            ],
            "text/html": [
              "\n",
              "  <style>\n",
              "    pre {\n",
              "        white-space: pre-wrap;\n",
              "    }\n",
              "  </style>\n",
              "  "
            ]
          },
          "metadata": {}
        },
        {
          "output_type": "display_data",
          "data": {
            "text/plain": [
              "<IPython.core.display.HTML object>"
            ],
            "text/html": [
              "\n",
              "    <style>\n",
              "      pre {\n",
              "        white-space: pre-wrap;\n",
              "      }\n",
              "    </style>\n",
              "    "
            ]
          },
          "metadata": {}
        },
        {
          "output_type": "display_data",
          "data": {
            "text/plain": [
              "<IPython.core.display.HTML object>"
            ],
            "text/html": [
              "\n",
              "    <style>\n",
              "      pre {\n",
              "        white-space: pre-wrap;\n",
              "      }\n",
              "    </style>\n",
              "    "
            ]
          },
          "metadata": {}
        }
      ]
    },
    {
      "cell_type": "code",
      "source": [
        "text = \"\"\"Mr. Smith's phone number is 212-555-5555, his SSN is 432-56-5654, \n",
        "and his credit card number is 344078656339539\"\"\"\n",
        "print(analyze_and_anonymize(text))"
      ],
      "metadata": {
        "colab": {
          "base_uri": "https://localhost:8080/",
          "height": 86
        },
        "id": "WIymR3BQsqIh",
        "outputId": "65a199f0-7e32-4593-82da-339e32d44fb4"
      },
      "execution_count": null,
      "outputs": [
        {
          "output_type": "display_data",
          "data": {
            "text/plain": [
              "<IPython.core.display.HTML object>"
            ],
            "text/html": [
              "\n",
              "  <style>\n",
              "    pre {\n",
              "        white-space: pre-wrap;\n",
              "    }\n",
              "  </style>\n",
              "  "
            ]
          },
          "metadata": {}
        },
        {
          "output_type": "display_data",
          "data": {
            "text/plain": [
              "<IPython.core.display.HTML object>"
            ],
            "text/html": [
              "\n",
              "    <style>\n",
              "      pre {\n",
              "        white-space: pre-wrap;\n",
              "      }\n",
              "    </style>\n",
              "    "
            ]
          },
          "metadata": {}
        },
        {
          "output_type": "display_data",
          "data": {
            "text/plain": [
              "<IPython.core.display.HTML object>"
            ],
            "text/html": [
              "\n",
              "    <style>\n",
              "      pre {\n",
              "        white-space: pre-wrap;\n",
              "      }\n",
              "    </style>\n",
              "    "
            ]
          },
          "metadata": {}
        },
        {
          "output_type": "stream",
          "name": "stderr",
          "text": [
            "WARNING:presidio-analyzer:configuration file /usr/local/lib/python3.10/dist-packages/conf/default.yaml not found.  Using default config: {'nlp_engine_name': 'spacy', 'models': [{'lang_code': 'en', 'model_name': 'en_core_web_lg'}]}.\n"
          ]
        },
        {
          "output_type": "stream",
          "name": "stdout",
          "text": [
            "Mr. <PERSON>'s phone number is <PHONE_NUMBER>, his SSN is <US_SSN>, \n",
            "and his credit card number is <CREDIT_CARD>\n"
          ]
        }
      ]
    },
    {
      "cell_type": "markdown",
      "source": [
        "## Output Explanation\n",
        "\n",
        "The output of the script is the anonymized version of the input text. Each recognized entity in the text is replaced with a placeholder. For example, a recognized person's name is replaced with `<PERSON>`, a recognized phone number is replaced with `<PHONE_NUMBER>`, and so on.\n",
        "\n",
        "This ensures that the sensitive information in the text is obscured, but the general structure and non-sensitive content of the text is preserved. This can be useful in scenarios where you want to use or share the text data without compromising the privacy of individuals.\n",
        "\n",
        "The warnings at the beginning of the output are informational messages from the Presidio library, indicating that it is using the default configuration and the `en_core_web_lg` spaCy model for English language processing."
      ],
      "metadata": {
        "id": "hNT7_3dn12dr"
      }
    }
  ]
}