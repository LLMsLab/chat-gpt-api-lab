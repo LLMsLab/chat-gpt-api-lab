{
  "nbformat": 4,
  "nbformat_minor": 0,
  "metadata": {
    "colab": {
      "provenance": [],
      "authorship_tag": "ABX9TyN5bnaYuaauDgLRDJn6VwKb",
      "include_colab_link": true
    },
    "kernelspec": {
      "name": "python3",
      "display_name": "Python 3"
    },
    "language_info": {
      "name": "python"
    }
  },
  "cells": [
    {
      "cell_type": "markdown",
      "metadata": {
        "id": "view-in-github",
        "colab_type": "text"
      },
      "source": [
        "<a href=\"https://colab.research.google.com/github/LLMsLab/chat-gpt-api-lab/blob/exploration%2Fchatgpt-api-understanding/tutorial_03_chatgpt_api_with_presidio.ipynb\" target=\"_parent\"><img src=\"https://colab.research.google.com/assets/colab-badge.svg\" alt=\"Open In Colab\"/></a>"
      ]
    },
    {
      "cell_type": "markdown",
      "source": [
        "# Using Presidio and ChatGPT API to anonymize PII data"
      ],
      "metadata": {
        "id": "d0w_mio0wmUb"
      }
    },
    {
      "cell_type": "markdown",
      "source": [
        "## Setup\n",
        "\n"
      ],
      "metadata": {
        "id": "8BEHIbrAkrp2"
      }
    },
    {
      "cell_type": "code",
      "source": [
        "# Requirements\n",
        "!pip install -qU python-dotenv openai gradio presidio-analyzer presidio-anonymizer\n",
        "!python -m spacy download en_core_web_lg -qU"
      ],
      "metadata": {
        "colab": {
          "base_uri": "https://localhost:8080/",
          "height": 555
        },
        "id": "ttl_cJ2vkuob",
        "outputId": "c85d7fd1-cf21-4dd8-f2e9-d75776b8bd93"
      },
      "execution_count": null,
      "outputs": [
        {
          "output_type": "display_data",
          "data": {
            "text/plain": [
              "<IPython.core.display.HTML object>"
            ],
            "text/html": [
              "\n",
              "    <style>\n",
              "      pre {\n",
              "        white-space: pre-wrap;\n",
              "      }\n",
              "    </style>\n",
              "    "
            ]
          },
          "metadata": {}
        },
        {
          "output_type": "stream",
          "name": "stdout",
          "text": [
            "\u001b[2K     \u001b[90m━━━━━━━━━━━━━━━━━━━━━━━━━━━━━━━━━━━━━━━━\u001b[0m \u001b[32m72.0/72.0 kB\u001b[0m \u001b[31m5.2 MB/s\u001b[0m eta \u001b[36m0:00:00\u001b[0m\n",
            "\u001b[2K     \u001b[90m━━━━━━━━━━━━━━━━━━━━━━━━━━━━━━━━━━━━━━━━\u001b[0m \u001b[32m19.9/19.9 MB\u001b[0m \u001b[31m89.6 MB/s\u001b[0m eta \u001b[36m0:00:00\u001b[0m\n",
            "\u001b[2K     \u001b[90m━━━━━━━━━━━━━━━━━━━━━━━━━━━━━━━━━━━━━━━━\u001b[0m \u001b[32m76.0/76.0 kB\u001b[0m \u001b[31m9.0 MB/s\u001b[0m eta \u001b[36m0:00:00\u001b[0m\n",
            "\u001b[2K     \u001b[90m━━━━━━━━━━━━━━━━━━━━━━━━━━━━━━━━━━━━━━━━\u001b[0m \u001b[32m1.0/1.0 MB\u001b[0m \u001b[31m55.3 MB/s\u001b[0m eta \u001b[36m0:00:00\u001b[0m\n",
            "\u001b[2K     \u001b[90m━━━━━━━━━━━━━━━━━━━━━━━━━━━━━━━━━━━━━━━━\u001b[0m \u001b[32m57.0/57.0 kB\u001b[0m \u001b[31m6.0 MB/s\u001b[0m eta \u001b[36m0:00:00\u001b[0m\n",
            "\u001b[?25h  Preparing metadata (setup.py) ... \u001b[?25l\u001b[?25hdone\n",
            "\u001b[2K     \u001b[90m━━━━━━━━━━━━━━━━━━━━━━━━━━━━━━━━━━━━━━\u001b[0m \u001b[32m288.1/288.1 kB\u001b[0m \u001b[31m28.4 MB/s\u001b[0m eta \u001b[36m0:00:00\u001b[0m\n",
            "\u001b[2K     \u001b[90m━━━━━━━━━━━━━━━━━━━━━━━━━━━━━━━━━━━━━━━━\u001b[0m \u001b[32m75.4/75.4 kB\u001b[0m \u001b[31m8.0 MB/s\u001b[0m eta \u001b[36m0:00:00\u001b[0m\n",
            "\u001b[2K     \u001b[90m━━━━━━━━━━━━━━━━━━━━━━━━━━━━━━━━━━━━━━\u001b[0m \u001b[32m224.5/224.5 kB\u001b[0m \u001b[31m24.8 MB/s\u001b[0m eta \u001b[36m0:00:00\u001b[0m\n",
            "\u001b[2K     \u001b[90m━━━━━━━━━━━━━━━━━━━━━━━━━━━━━━━━━━━━━━━━\u001b[0m \u001b[32m50.5/50.5 kB\u001b[0m \u001b[31m5.4 MB/s\u001b[0m eta \u001b[36m0:00:00\u001b[0m\n",
            "\u001b[2K     \u001b[90m━━━━━━━━━━━━━━━━━━━━━━━━━━━━━━━━━━━━━\u001b[0m \u001b[32m136.6/136.6 kB\u001b[0m \u001b[31m869.8 kB/s\u001b[0m eta \u001b[36m0:00:00\u001b[0m\n",
            "\u001b[2K     \u001b[90m━━━━━━━━━━━━━━━━━━━━━━━━━━━━━━━━━━━━━━━━\u001b[0m \u001b[32m45.7/45.7 kB\u001b[0m \u001b[31m5.4 MB/s\u001b[0m eta \u001b[36m0:00:00\u001b[0m\n",
            "\u001b[2K     \u001b[90m━━━━━━━━━━━━━━━━━━━━━━━━━━━━━━━━━━━━━━━━\u001b[0m \u001b[32m58.3/58.3 kB\u001b[0m \u001b[31m6.7 MB/s\u001b[0m eta \u001b[36m0:00:00\u001b[0m\n",
            "\u001b[2K     \u001b[90m━━━━━━━━━━━━━━━━━━━━━━━━━━━━━━━━━━━━━━\u001b[0m \u001b[32m129.9/129.9 kB\u001b[0m \u001b[31m15.2 MB/s\u001b[0m eta \u001b[36m0:00:00\u001b[0m\n",
            "\u001b[2K     \u001b[90m━━━━━━━━━━━━━━━━━━━━━━━━━━━━━━━━━━━━━━━━\u001b[0m \u001b[32m93.3/93.3 kB\u001b[0m \u001b[31m11.4 MB/s\u001b[0m eta \u001b[36m0:00:00\u001b[0m\n",
            "\u001b[2K     \u001b[90m━━━━━━━━━━━━━━━━━━━━━━━━━━━━━━━━━━━━━━━━\u001b[0m \u001b[32m2.6/2.6 MB\u001b[0m \u001b[31m97.5 MB/s\u001b[0m eta \u001b[36m0:00:00\u001b[0m\n",
            "\u001b[2K     \u001b[90m━━━━━━━━━━━━━━━━━━━━━━━━━━━━━━━━━━━━━━━━\u001b[0m \u001b[32m2.1/2.1 MB\u001b[0m \u001b[31m98.5 MB/s\u001b[0m eta \u001b[36m0:00:00\u001b[0m\n",
            "\u001b[2K     \u001b[90m━━━━━━━━━━━━━━━━━━━━━━━━━━━━━━━━━━━━━━━━\u001b[0m \u001b[32m58.3/58.3 kB\u001b[0m \u001b[31m7.5 MB/s\u001b[0m eta \u001b[36m0:00:00\u001b[0m\n",
            "\u001b[2K     \u001b[90m━━━━━━━━━━━━━━━━━━━━━━━━━━━━━━━━━━━━━━━\u001b[0m \u001b[32m114.5/114.5 kB\u001b[0m \u001b[31m9.8 MB/s\u001b[0m eta \u001b[36m0:00:00\u001b[0m\n",
            "\u001b[2K     \u001b[90m━━━━━━━━━━━━━━━━━━━━━━━━━━━━━━━━━━━━━━\u001b[0m \u001b[32m268.8/268.8 kB\u001b[0m \u001b[31m29.0 MB/s\u001b[0m eta \u001b[36m0:00:00\u001b[0m\n",
            "\u001b[2K     \u001b[90m━━━━━━━━━━━━━━━━━━━━━━━━━━━━━━━━━━━━━━\u001b[0m \u001b[32m149.6/149.6 kB\u001b[0m \u001b[31m17.2 MB/s\u001b[0m eta \u001b[36m0:00:00\u001b[0m\n",
            "\u001b[2K     \u001b[90m━━━━━━━━━━━━━━━━━━━━━━━━━━━━━━━━━━━━━━━━\u001b[0m \u001b[32m67.0/67.0 kB\u001b[0m \u001b[31m7.0 MB/s\u001b[0m eta \u001b[36m0:00:00\u001b[0m\n",
            "\u001b[2K     \u001b[90m━━━━━━━━━━━━━━━━━━━━━━━━━━━━━━━━━━━━━━━━\u001b[0m \u001b[32m72.5/72.5 kB\u001b[0m \u001b[31m8.2 MB/s\u001b[0m eta \u001b[36m0:00:00\u001b[0m\n",
            "\u001b[?25h  Building wheel for ffmpy (setup.py) ... \u001b[?25l\u001b[?25hdone\n",
            "2023-05-27 18:58:43.835823: I tensorflow/core/platform/cpu_feature_guard.cc:182] This TensorFlow binary is optimized to use available CPU instructions in performance-critical operations.\n",
            "To enable the following instructions: AVX2 FMA, in other operations, rebuild TensorFlow with the appropriate compiler flags.\n",
            "2023-05-27 18:58:44.818558: W tensorflow/compiler/tf2tensorrt/utils/py_utils.cc:38] TF-TRT Warning: Could not find TensorRT\n",
            "\u001b[2K     \u001b[90m━━━━━━━━━━━━━━━━━━━━━━━━━━━━━━━━━━━━━━━\u001b[0m \u001b[32m587.7/587.7 MB\u001b[0m \u001b[31m3.1 MB/s\u001b[0m eta \u001b[36m0:00:00\u001b[0m\n",
            "\u001b[?25h\u001b[38;5;2m✔ Download and installation successful\u001b[0m\n",
            "You can now load the package via spacy.load('en_core_web_lg')\n"
          ]
        }
      ]
    },
    {
      "cell_type": "code",
      "source": [
        "# Importing necessary modules\n",
        "import os\n",
        "from dotenv import load_dotenv\n",
        "import openai\n",
        "from presidio_analyzer import AnalyzerEngine\n",
        "from presidio_anonymizer import AnonymizerEngine\n",
        "from IPython.display import HTML, display"
      ],
      "metadata": {
        "colab": {
          "base_uri": "https://localhost:8080/",
          "height": 17
        },
        "id": "kpCUFxGHk0oN",
        "outputId": "b6767588-a8c5-4429-e1b5-5e0a90e3f81d"
      },
      "execution_count": null,
      "outputs": [
        {
          "output_type": "display_data",
          "data": {
            "text/plain": [
              "<IPython.core.display.HTML object>"
            ],
            "text/html": [
              "\n",
              "    <style>\n",
              "      pre {\n",
              "        white-space: pre-wrap;\n",
              "      }\n",
              "    </style>\n",
              "    "
            ]
          },
          "metadata": {}
        }
      ]
    },
    {
      "cell_type": "markdown",
      "source": [
        "To wrap the lines in the notebook's output use the following function.\n",
        "\n",
        "Reference: [Line Wrapping in Collaboratory Google results](https://stackoverflow.com/questions/58890109/line-wrapping-in-collaboratory-google-results)"
      ],
      "metadata": {
        "id": "TZNLOzJwwJvw"
      }
    },
    {
      "cell_type": "code",
      "source": [
        "def set_css():\n",
        "    \"\"\"\n",
        "    Wraps the lines in the notebook's output.\n",
        "    \"\"\"\n",
        "    display(HTML('''\n",
        "    <style>\n",
        "      pre {\n",
        "        white-space: pre-wrap;\n",
        "      }\n",
        "    </style>\n",
        "    '''))\n",
        "\n",
        "get_ipython().events.register('pre_run_cell', set_css)"
      ],
      "metadata": {
        "id": "PCCbstiKwABW"
      },
      "execution_count": null,
      "outputs": []
    },
    {
      "cell_type": "code",
      "source": [
        "# Mount Google Drive and ensure Google CoLab is running the correct\n",
        "# version of TensorFlow\n",
        "try:\n",
        "  from google.colab import drive\n",
        "  drive.mount('/content/drive', force_remount=True)\n",
        "  COLAB = True\n",
        "  print(\"Note: using Google Colab\")\n",
        "  %tensorflow_version 2.x\n",
        "except:\n",
        "  print(\"Note: not using Google Colab\")\n",
        "  COLAB = False"
      ],
      "metadata": {
        "colab": {
          "base_uri": "https://localhost:8080/",
          "height": 69
        },
        "id": "MHAz7PvdnUb4",
        "outputId": "e47986d0-12f9-4f21-9d1e-ef0173f3ce82"
      },
      "execution_count": null,
      "outputs": [
        {
          "output_type": "display_data",
          "data": {
            "text/plain": [
              "<IPython.core.display.HTML object>"
            ],
            "text/html": [
              "\n",
              "    <style>\n",
              "      pre {\n",
              "        white-space: pre-wrap;\n",
              "      }\n",
              "    </style>\n",
              "    "
            ]
          },
          "metadata": {}
        },
        {
          "output_type": "stream",
          "name": "stdout",
          "text": [
            "Mounted at /content/drive\n",
            "Note: using Google Colab\n",
            "Colab only includes TensorFlow 2.x; %tensorflow_version has no effect.\n"
          ]
        }
      ]
    },
    {
      "cell_type": "code",
      "source": [
        "# Load the environment variables from the .env file\n",
        "load_dotenv('/content/drive/MyDrive/Projects/.env')"
      ],
      "metadata": {
        "colab": {
          "base_uri": "https://localhost:8080/",
          "height": 34
        },
        "id": "X0bVE5wglFSW",
        "outputId": "a22df91c-5a62-4aa2-e3df-321f757d6888"
      },
      "execution_count": null,
      "outputs": [
        {
          "output_type": "display_data",
          "data": {
            "text/plain": [
              "<IPython.core.display.HTML object>"
            ],
            "text/html": [
              "\n",
              "    <style>\n",
              "      pre {\n",
              "        white-space: pre-wrap;\n",
              "      }\n",
              "    </style>\n",
              "    "
            ]
          },
          "metadata": {}
        },
        {
          "output_type": "execute_result",
          "data": {
            "text/plain": [
              "True"
            ]
          },
          "metadata": {},
          "execution_count": 20
        }
      ]
    },
    {
      "cell_type": "code",
      "source": [
        "# Retrieving API keys from the environment\n",
        "openai.api_key = os.getenv(\"OPENAI_API_KEY\")"
      ],
      "metadata": {
        "colab": {
          "base_uri": "https://localhost:8080/",
          "height": 17
        },
        "id": "alGXWyrIlNbQ",
        "outputId": "e576ead3-1cfa-4c5e-8807-8e2bd187f03e"
      },
      "execution_count": null,
      "outputs": [
        {
          "output_type": "display_data",
          "data": {
            "text/plain": [
              "<IPython.core.display.HTML object>"
            ],
            "text/html": [
              "\n",
              "    <style>\n",
              "      pre {\n",
              "        white-space: pre-wrap;\n",
              "      }\n",
              "    </style>\n",
              "    "
            ]
          },
          "metadata": {}
        }
      ]
    },
    {
      "cell_type": "markdown",
      "source": [
        "## Presidio and ChatGPT API working together "
      ],
      "metadata": {
        "id": "qzeAMvDTwYaa"
      }
    },
    {
      "cell_type": "code",
      "source": [
        "def analyze_and_anonymize(text: str):\n",
        "    \"\"\"\n",
        "    Analyze and anonymize PII data from a given text string.\n",
        "\n",
        "    Parameters\n",
        "    ----------\n",
        "    text : str\n",
        "        The text to be analyzed and anonymized.\n",
        "\n",
        "    Returns\n",
        "    -------\n",
        "    str\n",
        "        The anonymized text.\n",
        "\n",
        "    Example\n",
        "    -------\n",
        "    >>> text = \"Mr. Smith's phone number is 212-555-5555, his SSN is \\\n",
        "    >>> 432-56-5654, and his credit card number is 344078656339539\"\n",
        "    >>> print(analyze_and_anonymize(text))\n",
        "    \"\"\"\n",
        "    # Set up the engine, loads the NLP module (spaCy model by default)\n",
        "    # and other PII recognizers\n",
        "    analyzer = AnalyzerEngine()\n",
        "\n",
        "    # Define the entities to analyze\n",
        "    entities = [\n",
        "        \"CREDIT_CARD\",\n",
        "        \"CRYPTO\",\n",
        "        \"DATE_TIME\",\n",
        "        \"EMAIL_ADDRESS\",\n",
        "        \"IBAN_CODE\",\n",
        "        \"IP_ADDRESS\",\n",
        "        \"NRP\",\n",
        "        \"LOCATION\",\n",
        "        \"PERSON\",\n",
        "        \"PHONE_NUMBER\",\n",
        "        \"MEDICAL_LICENSE\",\n",
        "        \"URL\",\n",
        "        \"US_BANK_NUMBER\",\n",
        "        \"US_DRIVER_LICENSE\",\n",
        "        \"US_ITIN\",\n",
        "        \"US_PASSPORT\",\n",
        "        \"US_SSN\",\n",
        "    ]\n",
        "\n",
        "    # Call analyzer to get results\n",
        "    results = analyzer.analyze(text=text, entities=entities, language=\"en\")\n",
        "\n",
        "    # Analyzer results are passed to the AnonymizerEngine for anonymization\n",
        "    anonymizer = AnonymizerEngine()\n",
        "\n",
        "    # Anonymize the text\n",
        "    anonymized_text = anonymizer.anonymize(text=text, analyzer_results=results)\n",
        "\n",
        "    return anonymized_text.text"
      ],
      "metadata": {
        "colab": {
          "base_uri": "https://localhost:8080/",
          "height": 17
        },
        "id": "3g67XGb8o_Ag",
        "outputId": "ada23350-b005-4a38-c3ae-c869d800f54a"
      },
      "execution_count": null,
      "outputs": [
        {
          "output_type": "display_data",
          "data": {
            "text/plain": [
              "<IPython.core.display.HTML object>"
            ],
            "text/html": [
              "\n",
              "    <style>\n",
              "      pre {\n",
              "        white-space: pre-wrap;\n",
              "      }\n",
              "    </style>\n",
              "    "
            ]
          },
          "metadata": {}
        }
      ]
    },
    {
      "cell_type": "code",
      "source": [
        "message_history = []\n",
        "\n",
        "def chat(inp, role=\"user\"):\n",
        "    message_history.append({\"role\": role, \"content\": f\"{inp}\"})\n",
        "    completion = openai.ChatCompletion.create(\n",
        "        model=\"gpt-3.5-turbo\",\n",
        "        messages=message_history\n",
        "    )\n",
        "    reply_content = completion.choices[0].message.content\n",
        "    message_history.append({\"role\": \"assistant\", \"content\": f\"{reply_content}\"})\n",
        "    return reply_content"
      ],
      "metadata": {
        "colab": {
          "base_uri": "https://localhost:8080/",
          "height": 17
        },
        "id": "AfJKzWwnlPmS",
        "outputId": "c0e4d7f8-548e-4a28-b6c4-84e533f98bc5"
      },
      "execution_count": null,
      "outputs": [
        {
          "output_type": "display_data",
          "data": {
            "text/plain": [
              "<IPython.core.display.HTML object>"
            ],
            "text/html": [
              "\n",
              "    <style>\n",
              "      pre {\n",
              "        white-space: pre-wrap;\n",
              "      }\n",
              "    </style>\n",
              "    "
            ]
          },
          "metadata": {}
        }
      ]
    },
    {
      "cell_type": "code",
      "source": [
        "for i in range(2):\n",
        "    # What is the moon's circumference in km?\n",
        "    # which moon is that in reference to?\n",
        "    # Mr. Smith's phone number is 212-555-5555, his SSN is 432-56-5654, and his \n",
        "    # credit card number is 344078656339539. Write an email to Mr. Smith about\n",
        "    # new Life insurance product \"star\"\n",
        "    user_input = input(\"> \")\n",
        "    print(\"User's input was: \", user_input)\n",
        "    user_input_anonymized = analyze_and_anonymize(user_input)\n",
        "    print(\"Anonymized user's input: \", user_input_anonymized)\n",
        "    print(chat(user_input_anonymized))\n",
        "    print()"
      ],
      "metadata": {
        "colab": {
          "base_uri": "https://localhost:8080/",
          "height": 1000
        },
        "id": "4ZojZviNmwvM",
        "outputId": "07a90f5b-7478-4d46-84d0-0e181bdf4f94"
      },
      "execution_count": null,
      "outputs": [
        {
          "output_type": "display_data",
          "data": {
            "text/plain": [
              "<IPython.core.display.HTML object>"
            ],
            "text/html": [
              "\n",
              "    <style>\n",
              "      pre {\n",
              "        white-space: pre-wrap;\n",
              "      }\n",
              "    </style>\n",
              "    "
            ]
          },
          "metadata": {}
        },
        {
          "name": "stdout",
          "output_type": "stream",
          "text": [
            "> Mr. Smith's phone number is 212-555-5555, his SSN is 432-56-5654, and his credit card number is 344078656339539. Write an email to Mr. Smith about new Life insurance product \"star\"\n"
          ]
        },
        {
          "output_type": "stream",
          "name": "stderr",
          "text": [
            "WARNING:presidio-analyzer:configuration file /usr/local/lib/python3.10/dist-packages/conf/default.yaml not found.  Using default config: {'nlp_engine_name': 'spacy', 'models': [{'lang_code': 'en', 'model_name': 'en_core_web_lg'}]}.\n"
          ]
        },
        {
          "name": "stdout",
          "output_type": "stream",
          "text": [
            "User's input was:  Mr. Smith's phone number is 212-555-5555, his SSN is 432-56-5654, and his credit card number is 344078656339539. Write an email to Mr. Smith about new Life insurance product \"star\"\n",
            "Anonymized user's input:  Mr. <PERSON>'s phone number is <PHONE_NUMBER>, his SSN is <US_SSN>, and his credit card number is <CREDIT_CARD>. Write an email to Mr. <PERSON> about new Life insurance product \"star\"\n",
            "Dear Mr. <PERSON>,\n",
            "\n",
            "I hope this email finds you in good health and high spirits.\n",
            "\n",
            "At ABC Insurance, we are proud to introduce our new life insurance product \"Star\". This innovative offering is designed to provide comprehensive and affordable protection for you and your loved ones.\n",
            "\n",
            "We understand that securing your family's wellbeing is of utmost importance to you. With \"Star\", you can enjoy peace of mind knowing that your loved ones will be taken care of in the unlikely event of any unforeseen circumstances.\n",
            "\n",
            "As a valued client of ABC Insurance, we believe that \"Star\" would be an excellent addition to your existing coverage. The benefits of the policy include:\n",
            "\n",
            "- Coverage for natural death and accidental death\n",
            "- A lump sum payout to beneficiaries in the event of death\n",
            "- Fixed premiums that remain the same throughout the policy term\n",
            "- No medical exam required\n",
            "\n",
            "To learn more about this exciting new product or to discuss any additional insurance needs you may have, please feel free to give us a call at (ABC Insurance phone number).\n",
            "\n",
            "Thank you for considering ABC Insurance to protect your family's future. We value your continued trust and loyalty.\n",
            "\n",
            "Sincerely,\n",
            "\n",
            "[Your Name]\n",
            "\n",
            "ABC Insurance\n",
            "\n",
            "> Include the date on the email\n"
          ]
        },
        {
          "output_type": "stream",
          "name": "stderr",
          "text": [
            "WARNING:presidio-analyzer:configuration file /usr/local/lib/python3.10/dist-packages/conf/default.yaml not found.  Using default config: {'nlp_engine_name': 'spacy', 'models': [{'lang_code': 'en', 'model_name': 'en_core_web_lg'}]}.\n"
          ]
        },
        {
          "output_type": "stream",
          "name": "stdout",
          "text": [
            "User's input was:  Include the date on the email\n",
            "Anonymized user's input:  Include the date on the email\n",
            "Sure, here's the updated email with the date included:\n",
            "\n",
            "\n",
            "Dear Mr. <PERSON>,\n",
            "\n",
            "I hope this email finds you in good health and high spirits.\n",
            "\n",
            "As of [TODAY'S DATE], we are proud to introduce our new life insurance product \"Star\" at ABC Insurance. This innovative offering is designed to provide comprehensive and affordable protection for you and your loved ones.\n",
            "\n",
            "We understand that securing your family's wellbeing is of utmost importance to you. With \"Star\", you can enjoy peace of mind knowing that your loved ones will be taken care of in the unlikely event of any unforeseen circumstances.\n",
            "\n",
            "As a valued client of ABC Insurance, we believe that \"Star\" would be an excellent addition to your existing coverage. The benefits of the policy include:\n",
            "\n",
            "- Coverage for natural death and accidental death\n",
            "- A lump sum payout to beneficiaries in the event of death\n",
            "- Fixed premiums that remain the same throughout the policy term\n",
            "- No medical exam required\n",
            "\n",
            "To learn more about this exciting new product or to discuss any additional insurance needs you may have, please feel free to give us a call at (ABC Insurance phone number).\n",
            "\n",
            "Thank you for considering ABC Insurance to protect your family's future. We value your continued trust and loyalty.\n",
            "\n",
            "Sincerely,\n",
            "\n",
            "[Your Name]\n",
            "\n",
            "ABC Insurance\n",
            "\n"
          ]
        }
      ]
    },
    {
      "cell_type": "code",
      "source": [],
      "metadata": {
        "id": "7_Iaj8Birwb_"
      },
      "execution_count": null,
      "outputs": []
    }
  ]
}