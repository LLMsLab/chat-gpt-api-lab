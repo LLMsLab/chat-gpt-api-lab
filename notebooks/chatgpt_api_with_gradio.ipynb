{
 "cells": [
  {
   "cell_type": "markdown",
   "metadata": {},
   "source": [
    "This notebook is designed to replicate the capabilities of ChatGPT-4, utilizing the Gradio interface and OpenAI's API as an alternative to the standard ChatGPT website. The implementation within this notebook operates as anticipated."
   ]
  },
  {
   "cell_type": "code",
   "execution_count": 8,
   "metadata": {},
   "outputs": [],
   "source": [
    "# Importing necessary modules\n",
    "import os\n",
    "from dotenv import load_dotenv\n",
    "import openai\n",
    "import gradio as gr  # 3.32"
   ]
  },
  {
   "cell_type": "code",
   "execution_count": 9,
   "metadata": {},
   "outputs": [],
   "source": [
    "# Load the environment variables from the local .env file\n",
    "# NOTE: while using Jupyter Notebooks with VS Code, even when the .env\n",
    "# is located in the root directory of the project, you must use ../.env\n",
    "# instead of .env\n",
    "load_dotenv(\".env\")\n",
    "\n",
    "# Retrieving API keys from the environment\n",
    "openai.api_key = os.getenv(\"OPENAI_API_KEY\")\n",
    "username = os.getenv(\"PII_SAFE_CHAT_USERNAME\")\n",
    "password = os.getenv(\"PII_SAFE_CHAT_PASSWORD\")"
   ]
  },
  {
   "cell_type": "code",
   "execution_count": 10,
   "metadata": {},
   "outputs": [],
   "source": [
    "def clear_history():\n",
    "    \"\"\"\n",
    "    Clear the global variable `message_history`.\n",
    "\n",
    "    This function resets the `message_history` list to its default\n",
    "    state, which includes two messages: one from the user and one from\n",
    "    the assistant.\n",
    "\n",
    "    Notes\n",
    "    -----\n",
    "    This function directly modifies the global variable\n",
    "    `message_history`.\n",
    "\n",
    "    Examples\n",
    "    --------\n",
    "    >>> message_history\n",
    "    [{'role': 'user', 'content': 'Hello!'}, {'role': 'assistant', 'content': 'Hello!'}]\n",
    "    >>> clear_history()\n",
    "    >>> message_history\n",
    "    [{'role': 'user', 'content': 'You are an assistant.'}, {'role': 'assistant', 'content': 'OK'}]\n",
    "    \"\"\"\n",
    "    # Declare that we're using the global variable `message_history`\n",
    "    global message_history\n",
    "    # Reset `message_history` to its default state\n",
    "    message_history = [\n",
    "        {\"role\": \"user\", \"content\": f\"You are a kind helpful assistant\"},\n",
    "        {\"role\": \"assistant\", \"content\": f\"OK\"},\n",
    "    ]"
   ]
  },
  {
   "cell_type": "code",
   "execution_count": 11,
   "metadata": {},
   "outputs": [],
   "source": [
    "# Initialize the `message_history` global variable to its default state\n",
    "message_history = [\n",
    "    {\"role\": \"user\", \"content\": f\"You are a kind helpful assistant\"},\n",
    "    {\"role\": \"assistant\", \"content\": f\"OK\"},\n",
    "]"
   ]
  },
  {
   "cell_type": "code",
   "execution_count": 12,
   "metadata": {},
   "outputs": [],
   "source": [
    "def predict(input):\n",
    "    \"\"\"\n",
    "    Given a user's input, this function predicts a response by sending\n",
    "    the anonymized input to the OpenAI API. This prediction is then\n",
    "    appended to the message history. Finally, the function returns a\n",
    "    list of pairs of consecutive messages from the history, skipping the\n",
    "    pre-prompt.\n",
    "\n",
    "    Parameters\n",
    "    ----------\n",
    "    input : str\n",
    "        User's original input message\n",
    "\n",
    "    Returns\n",
    "    -------\n",
    "    list\n",
    "        A list of tuples. Each tuple contains a pair of consecutive\n",
    "        messages from the message history.\n",
    "    \"\"\"\n",
    "\n",
    "    # Anonymize the user input\n",
    "    input_anonymized = input\n",
    "\n",
    "    # Add the anonymized user input to the message history\n",
    "    message_history.append(\n",
    "        {\n",
    "            \"role\": \"user\",\n",
    "            \"content\": (f\"{input_anonymized}\"),\n",
    "        }\n",
    "    )\n",
    "\n",
    "    # Get a completion from OpenAI's API based on the message history\n",
    "    completion = openai.ChatCompletion.create(\n",
    "        model=\"gpt-4\", messages=message_history\n",
    "    )\n",
    "\n",
    "    # Extract the content of the reply from the API response\n",
    "    reply_content = completion.choices[0].message.content\n",
    "\n",
    "    # Add the reply content to the message history\n",
    "    message_history.append(\n",
    "        {\"role\": \"assistant\", \"content\": f\"{reply_content}\"}\n",
    "    )\n",
    "\n",
    "    # Generate a response by pairing consecutive messages in the\n",
    "    # history, skipping the pre-prompt\n",
    "    response = [\n",
    "        (message_history[i][\"content\"], message_history[i + 1][\"content\"])\n",
    "        for i in range(2, len(message_history) - 1, 2)\n",
    "    ]\n",
    "\n",
    "    # Return the response\n",
    "    return response\n",
    "\n",
    "\n",
    "# Start creating a Gradio Blocks interface with the 'darkhuggingface'\n",
    "# theme\n",
    "with gr.Blocks() as demo:\n",
    "    # Add a markdown element to the interface with introductory\n",
    "    # information\n",
    "    gr.Markdown(\n",
    "        \"\"\"\n",
    "    ## Welcome!\n",
    "    \"\"\"\n",
    "    )\n",
    "\n",
    "    # Create a chatbot component\n",
    "    chatbot = gr.Chatbot()\n",
    "\n",
    "    # Create a row layout for the textbox and the clear button\n",
    "    with gr.Row():\n",
    "        # Create a textbox for user input\n",
    "        txt = gr.Textbox(\n",
    "            show_label=False, placeholder=\"Enter text and press enter\"\n",
    "        ).style(container=False)\n",
    "\n",
    "    # Create a button to clear the chat\n",
    "    clear = gr.Button(\"New chat\")\n",
    "\n",
    "    # Add a submit event to the textbox that triggers the predict\n",
    "    # function\n",
    "    # The output is displayed in the chatbot component\n",
    "    txt.submit(predict, txt, chatbot)\n",
    "\n",
    "    # Add a submit event to the textbox that clears the textbox when\n",
    "    # enter is pressed\n",
    "    txt.submit(None, None, txt, _js=\"() => {''}\")\n",
    "\n",
    "    # Add a click event to the clear button that triggers the\n",
    "    # clear_history function\n",
    "    # The output is displayed in the chatbot component\n",
    "    clear.click(clear_history, None, chatbot, queue=False)\n"
   ]
  },
  {
   "cell_type": "code",
   "execution_count": 13,
   "metadata": {},
   "outputs": [
    {
     "name": "stdout",
     "output_type": "stream",
     "text": [
      "Running on local URL:  http://127.0.0.1:7861\n",
      "Running on public URL: https://aa2732829117f79e10.gradio.live\n",
      "\n",
      "This share link expires in 72 hours. For free permanent hosting and GPU upgrades, run `gradio deploy` from Terminal to deploy to Spaces (https://huggingface.co/spaces)\n"
     ]
    },
    {
     "data": {
      "text/html": [
       "<div><iframe src=\"https://aa2732829117f79e10.gradio.live\" width=\"100%\" height=\"500\" allow=\"autoplay; camera; microphone; clipboard-read; clipboard-write;\" frameborder=\"0\" allowfullscreen></iframe></div>"
      ],
      "text/plain": [
       "<IPython.core.display.HTML object>"
      ]
     },
     "metadata": {},
     "output_type": "display_data"
    },
    {
     "data": {
      "text/plain": []
     },
     "execution_count": 13,
     "metadata": {},
     "output_type": "execute_result"
    }
   ],
   "source": [
    "# Launch the Gradio interface\n",
    "demo.launch(\n",
    "    share=True,\n",
    ")"
   ]
  },
  {
   "cell_type": "code",
   "execution_count": null,
   "metadata": {},
   "outputs": [],
   "source": []
  }
 ],
 "metadata": {
  "kernelspec": {
   "display_name": "transformers_nlp_env",
   "language": "python",
   "name": "python3"
  },
  "language_info": {
   "codemirror_mode": {
    "name": "ipython",
    "version": 3
   },
   "file_extension": ".py",
   "mimetype": "text/x-python",
   "name": "python",
   "nbconvert_exporter": "python",
   "pygments_lexer": "ipython3",
   "version": "3.10.8"
  },
  "orig_nbformat": 4
 },
 "nbformat": 4,
 "nbformat_minor": 2
}
